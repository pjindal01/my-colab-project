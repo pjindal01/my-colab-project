{
 "cells": [
  {
   "cell_type": "markdown",
   "id": "b22ea9d3",
   "metadata": {
    "id": "b22ea9d3"
   },
   "source": [
    "PaisaBazaar Project"
   ]
  },
  {
   "cell_type": "markdown",
   "id": "4ca84800",
   "metadata": {
    "id": "4ca84800"
   },
   "source": [
    "## 1. Import Libraries"
   ]
  },
  {
   "cell_type": "code",
   "execution_count": null,
   "id": "defb7eb8",
   "metadata": {
    "id": "defb7eb8"
   },
   "outputs": [],
   "source": [
    "\n",
    "# Import all libraries\n",
    "import pandas as pd\n",
    "import numpy as np\n",
    "import matplotlib.pyplot as plt\n",
    "import seaborn as sns\n",
    "\n",
    "sns.set(style=\"whitegrid\")\n"
   ]
  },
  {
   "cell_type": "markdown",
   "id": "ffef6aaa",
   "metadata": {
    "id": "ffef6aaa"
   },
   "source": [
    "## 2. Load Dataset (Manual Upload)"
   ]
  },
  {
   "cell_type": "code",
   "execution_count": null,
   "id": "e7718420",
   "metadata": {
    "colab": {
     "base_uri": "https://localhost:8080/",
     "height": 415
    },
    "id": "e7718420",
    "outputId": "57bc1fde-8c98-4f0d-acd5-3b9931ae5063"
   },
   "outputs": [],
   "source": [
    "\n",
    "from google.colab import files\n",
    "uploaded = files.upload()\n",
    "\n",
    "df = pd.read_csv(\"dataset-2.csv\")\n",
    "print(\"Shape of dataset:\", df.shape)\n",
    "df.head()\n"
   ]
  },
  {
   "cell_type": "markdown",
   "id": "83b183b6",
   "metadata": {
    "id": "83b183b6"
   },
   "source": [
    "## 3. Dataset First Look"
   ]
  },
  {
   "cell_type": "code",
   "execution_count": null,
   "id": "0341543e",
   "metadata": {
    "colab": {
     "base_uri": "https://localhost:8080/",
     "height": 342
    },
    "id": "0341543e",
    "outputId": "3fd359c8-83d0-487b-e30e-d0df3dd8b499"
   },
   "outputs": [],
   "source": [
    "df.head()"
   ]
  },
  {
   "cell_type": "code",
   "execution_count": null,
   "id": "f7063b97",
   "metadata": {
    "colab": {
     "base_uri": "https://localhost:8080/"
    },
    "id": "f7063b97",
    "outputId": "981a774a-3df5-4975-b146-a6c41cd2d62d"
   },
   "outputs": [],
   "source": [
    "df.shape"
   ]
  },
  {
   "cell_type": "code",
   "execution_count": null,
   "id": "54b8b969",
   "metadata": {
    "colab": {
     "base_uri": "https://localhost:8080/"
    },
    "id": "54b8b969",
    "outputId": "656c4bf2-3b33-4c59-cb37-cc1224a31b49"
   },
   "outputs": [],
   "source": [
    "df.info()"
   ]
  },
  {
   "cell_type": "code",
   "execution_count": null,
   "id": "1c18884a",
   "metadata": {
    "colab": {
     "base_uri": "https://localhost:8080/",
     "height": 350
    },
    "id": "1c18884a",
    "outputId": "1b5c777c-3daf-45e7-8b82-dff62d0f3123"
   },
   "outputs": [],
   "source": [
    "df.describe()"
   ]
  },
  {
   "cell_type": "markdown",
   "id": "5c9cc52c",
   "metadata": {
    "id": "5c9cc52c"
   },
   "source": [
    "## 4. Dataset Rows & Columns Count"
   ]
  },
  {
   "cell_type": "code",
   "execution_count": null,
   "id": "0ad66d77",
   "metadata": {
    "colab": {
     "base_uri": "https://localhost:8080/"
    },
    "id": "0ad66d77",
    "outputId": "423ee0e2-ea93-4975-c6d6-a903c9249067"
   },
   "outputs": [],
   "source": [
    "\n",
    "print(\"Number of Rows:\", df.shape[0])\n",
    "print(\"Number of Columns:\", df.shape[1])\n"
   ]
  },
  {
   "cell_type": "markdown",
   "id": "15b509c6",
   "metadata": {
    "id": "15b509c6"
   },
   "source": [
    "## 5. Dataset Information"
   ]
  },
  {
   "cell_type": "code",
   "execution_count": null,
   "id": "58d037a8",
   "metadata": {
    "colab": {
     "base_uri": "https://localhost:8080/"
    },
    "id": "58d037a8",
    "outputId": "d21a7979-9887-40cd-e178-04c786b683b3"
   },
   "outputs": [],
   "source": [
    "\n",
    "# Missing values\n",
    "print(\"Missing values:\\n\", df.isnull().sum())\n",
    "\n",
    "# Duplicates\n",
    "print(\"Duplicate rows:\", df.duplicated().sum())\n",
    "\n",
    "# Target distribution\n",
    "print(\"Credit Score distribution:\\n\", df['Credit_Score'].value_counts())\n"
   ]
  },
  {
   "cell_type": "markdown",
   "id": "23183f31",
   "metadata": {
    "id": "23183f31"
   },
   "source": [
    "## 6. Understanding Your Variables"
   ]
  },
  {
   "cell_type": "code",
   "execution_count": null,
   "id": "953bae87",
   "metadata": {
    "colab": {
     "base_uri": "https://localhost:8080/",
     "height": 962
    },
    "id": "953bae87",
    "outputId": "112def37-cdb9-4557-a677-951073484aff"
   },
   "outputs": [],
   "source": [
    "df.dtypes"
   ]
  },
  {
   "cell_type": "code",
   "execution_count": null,
   "id": "a99fe0d8",
   "metadata": {
    "colab": {
     "base_uri": "https://localhost:8080/"
    },
    "id": "a99fe0d8",
    "outputId": "e72cd0f5-fc22-4638-c024-fa52cbf27883"
   },
   "outputs": [],
   "source": [
    "\n",
    "# Unique values per column\n",
    "for col in df.columns:\n",
    "    print(col, \":\", df[col].nunique())\n"
   ]
  },
  {
   "cell_type": "markdown",
   "id": "9c7fd8a0",
   "metadata": {
    "id": "9c7fd8a0"
   },
   "source": [
    "## 7. Variables Description (Data Dictionary)"
   ]
  },
  {
   "cell_type": "markdown",
   "id": "dd12c324",
   "metadata": {
    "id": "dd12c324"
   },
   "source": [
    "\n",
    "| Variable Name         | Description |\n",
    "|-----------------------|-------------|\n",
    "| ID                   | Unique customer ID |\n",
    "| Age                  | Customer's age |\n",
    "| Annual_Income        | Annual income of the customer |\n",
    "| Monthly_Inhand_Salary| Monthly in-hand salary |\n",
    "| Num_of_Loan          | Number of active loans |\n",
    "| Outstanding_Debt     | Total outstanding debt |\n",
    "| Payment_Behaviour    | Payment pattern |\n",
    "| Credit_Score         | Target variable (Poor, Standard, Good) |\n"
   ]
  },
  {
   "cell_type": "markdown",
   "id": "e740508a",
   "metadata": {
    "id": "e740508a"
   },
   "source": [
    "## 8. Data Wrangling"
   ]
  },
  {
   "cell_type": "code",
   "execution_count": null,
   "id": "a60921f8",
   "metadata": {
    "colab": {
     "base_uri": "https://localhost:8080/"
    },
    "id": "a60921f8",
    "outputId": "1cb965a4-80a3-47f9-e9f3-007a26a9aa55"
   },
   "outputs": [],
   "source": [
    "\n",
    "# Drop duplicate rows\n",
    "df.drop_duplicates(inplace=True)\n",
    "\n",
    "# Check missing values again\n",
    "print(\"Missing values after cleaning:\\n\", df.isnull().sum())\n",
    "\n",
    "# Convert Credit_Score to categorical type\n",
    "df['Credit_Score'] = df['Credit_Score'].astype('category')\n",
    "\n",
    "# Verify final structure\n",
    "df.info()\n"
   ]
  },
  {
   "cell_type": "markdown",
   "id": "30e2074e",
   "metadata": {
    "id": "30e2074e"
   },
   "source": [
    "## 9. Univariate Analysis"
   ]
  },
  {
   "cell_type": "code",
   "execution_count": null,
   "id": "ecef3a99",
   "metadata": {
    "colab": {
     "base_uri": "https://localhost:8080/",
     "height": 526
    },
    "id": "ecef3a99",
    "outputId": "61e2f618-8ce4-436f-eec1-6db4628f8864"
   },
   "outputs": [],
   "source": [
    "# Chart 1: Distribution of Credit Score (Target Variable)\n",
    "plt.figure(figsize=(6,4))\n",
    "sns.countplot(x='Credit_Score', data=df, palette=\"Set2\")\n",
    "plt.title(\"Distribution of Credit Score\")\n",
    "plt.show()"
   ]
  },
  {
   "cell_type": "markdown",
   "id": "b61a0e4f",
   "metadata": {
    "id": "b61a0e4f"
   },
   "source": [
    "Why this chart?\n",
    "We start with the target variable. It’s categorical, so a countplot is best.\n",
    "\n",
    "Insights:\n",
    "Most customers fall into the Standard and Good categories, fewer in Poor.\n",
    "\n",
    "Business Impact:\n",
    "Positive — shows most customers are creditworthy. Negative impact: Poor category customers may carry higher risk."
   ]
  },
  {
   "cell_type": "code",
   "execution_count": null,
   "id": "d60c53af",
   "metadata": {
    "colab": {
     "base_uri": "https://localhost:8080/",
     "height": 419
    },
    "id": "d60c53af",
    "outputId": "1453cc4f-5a56-4547-f04c-d6d18aa2be4a"
   },
   "outputs": [],
   "source": [
    "# Chart 2: Distribution of Age\n",
    "plt.figure(figsize=(6,4))\n",
    "sns.histplot(df['Age'], kde=True, bins=30, color=\"skyblue\")\n",
    "plt.title(\"Age Distribution\")\n",
    "plt.show()"
   ]
  },
  {
   "cell_type": "markdown",
   "id": "3qVgpw9fG3Oq",
   "metadata": {
    "id": "3qVgpw9fG3Oq"
   },
   "source": [
    "Why this chart?\n",
    "Age is numeric; histogram with KDE curve shows spread.\n",
    "\n",
    "Insights:\n",
    "Majority of customers are in the 25–40 years range.\n",
    "\n",
    "Business Impact:\n",
    "Good for targeting middle-aged customers. Limited reach for senior citizens."
   ]
  },
  {
   "cell_type": "code",
   "execution_count": null,
   "id": "f0ddfd0f",
   "metadata": {
    "colab": {
     "base_uri": "https://localhost:8080/",
     "height": 419
    },
    "id": "f0ddfd0f",
    "outputId": "fb9d6488-f870-4163-889c-73ebb03c2071"
   },
   "outputs": [],
   "source": [
    "# Chart 3: Distribution of Annual Income\n",
    "plt.figure(figsize=(6,4))\n",
    "sns.histplot(df['Annual_Income'], kde=True, bins=30, color=\"orange\")\n",
    "plt.title(\"Annual Income Distribution\")\n",
    "plt.show()"
   ]
  },
  {
   "cell_type": "markdown",
   "id": "AMzwkPyZG3qg",
   "metadata": {
    "id": "AMzwkPyZG3qg"
   },
   "source": [
    "Why this chart?\n",
    "Income is continuous, histogram shows skewness.\n",
    "\n",
    "Insights:\n",
    "Income is right-skewed; most customers earn on the lower side, few earn very high.\n",
    "\n",
    "Business Impact:\n",
    "Good — larger customer base in low/mid income means bigger loan demand. Risk — high earners are fewer, but more stable."
   ]
  },
  {
   "cell_type": "code",
   "execution_count": null,
   "id": "a0792b87",
   "metadata": {
    "colab": {
     "base_uri": "https://localhost:8080/",
     "height": 526
    },
    "id": "a0792b87",
    "outputId": "17e13dde-cc24-4c42-feb9-f020e7c292fd"
   },
   "outputs": [],
   "source": [
    "# Chart 4: Number of Loans\n",
    "plt.figure(figsize=(6,4))\n",
    "sns.countplot(x='Num_of_Loan', data=df, palette=\"coolwarm\")\n",
    "plt.title(\"Number of Active Loans per Customer\")\n",
    "plt.show()"
   ]
  },
  {
   "cell_type": "markdown",
   "id": "t9JCN7UgHtfB",
   "metadata": {
    "id": "t9JCN7UgHtfB"
   },
   "source": [
    "Why this chart?\n",
    "Loan counts are discrete small integers, so countplot works well.\n",
    "\n",
    "Insights:\n",
    "Most customers have 1–3 active loans, very few have more than 6.\n",
    "\n",
    "Business Impact:\n",
    "Positive — small manageable loans are safer. High loan counts → red flag."
   ]
  },
  {
   "cell_type": "code",
   "execution_count": null,
   "id": "7b83a5c2",
   "metadata": {
    "colab": {
     "base_uri": "https://localhost:8080/",
     "height": 419
    },
    "id": "7b83a5c2",
    "outputId": "e6d7aa26-8f8e-4560-b41b-574bd2ea93cf"
   },
   "outputs": [],
   "source": [
    "# Chart 5: Outstanding Debt\n",
    "plt.figure(figsize=(6,4))\n",
    "sns.histplot(df['Outstanding_Debt'], kde=True, bins=30, color=\"green\")\n",
    "plt.title(\"Outstanding Debt Distribution\")\n",
    "plt.show()"
   ]
  },
  {
   "cell_type": "markdown",
   "id": "jUyinAczHsC7",
   "metadata": {
    "id": "jUyinAczHsC7"
   },
   "source": [
    "Why this chart?\n",
    "Debt is numeric; histogram shows how much debt customers carry.\n",
    "\n",
    "Insights:\n",
    "Debt is skewed; many customers carry moderate debt, fewer have extremely high debt.\n",
    "\n",
    "Business Impact:\n",
    "Important for risk modeling. Higher debt → higher probability of default."
   ]
  },
  {
   "cell_type": "markdown",
   "id": "3e8ca5f1",
   "metadata": {
    "id": "3e8ca5f1"
   },
   "source": [
    "## 10. Bivariate Analysis"
   ]
  },
  {
   "cell_type": "code",
   "execution_count": null,
   "id": "8QknaxTHMDsg",
   "metadata": {
    "colab": {
     "base_uri": "https://localhost:8080/",
     "height": 526
    },
    "id": "8QknaxTHMDsg",
    "outputId": "f6e0fc06-6a62-4407-c897-16a7d77dc116"
   },
   "outputs": [],
   "source": [
    "plt.figure(figsize=(6,4))\n",
    "sns.boxplot(x='Credit_Score', y='Age', data=df, palette=\"Set2\")\n",
    "plt.title(\"Age vs Credit Score\")\n",
    "plt.show()"
   ]
  },
  {
   "cell_type": "markdown",
   "id": "f91cce34",
   "metadata": {
    "id": "f91cce34"
   },
   "source": [
    "Why this chart?\n",
    "Boxplots are best for comparing distributions of numeric values across categories.\n",
    "\n",
    "Insights:\n",
    "\n",
    "Poor credit customers tend to be younger.\n",
    "\n",
    "Good credit scores are more common among slightly older customers.\n",
    "\n",
    "Business Impact:\n",
    "Younger customers may lack credit history → higher risk. Targeting stable middle-aged customers could reduce defaults.\n"
   ]
  },
  {
   "cell_type": "code",
   "execution_count": null,
   "id": "KvY7nF1bMSAY",
   "metadata": {
    "colab": {
     "base_uri": "https://localhost:8080/",
     "height": 526
    },
    "id": "KvY7nF1bMSAY",
    "outputId": "d0241daa-74ed-45ab-9da1-b1fc64ac5deb"
   },
   "outputs": [],
   "source": [
    "plt.figure(figsize=(6,4))\n",
    "sns.boxplot(x='Credit_Score', y='Annual_Income', data=df, palette=\"muted\")\n",
    "plt.title(\"Annual Income vs Credit Score\")\n",
    "plt.show()"
   ]
  },
  {
   "cell_type": "markdown",
   "id": "GgIZN301JUYS",
   "metadata": {
    "id": "GgIZN301JUYS"
   },
   "source": [
    "Why this chart?\n",
    "Compares income distribution across credit score groups.\n",
    "\n",
    "Insights:\n",
    "\n",
    "Good credit scores align with higher annual incomes.\n",
    "\n",
    "Poor credit scores appear more often among lower incomes.\n",
    "\n",
    "Business Impact:\n",
    "Supports offering premium products to high earners while managing loan limits for low earners."
   ]
  },
  {
   "cell_type": "code",
   "execution_count": null,
   "id": "laHvxRJiMerZ",
   "metadata": {
    "colab": {
     "base_uri": "https://localhost:8080/",
     "height": 526
    },
    "id": "laHvxRJiMerZ",
    "outputId": "0fa8cb0b-1737-42a2-8c68-4023d363da9f"
   },
   "outputs": [],
   "source": [
    "plt.figure(figsize=(6,4))\n",
    "sns.boxplot(x='Credit_Score', y='Num_of_Loan', data=df, palette=\"coolwarm\")\n",
    "plt.title(\"Number of Loans vs Credit Score\")\n",
    "plt.show()"
   ]
  },
  {
   "cell_type": "markdown",
   "id": "8ig6BCqhJVEB",
   "metadata": {
    "id": "8ig6BCqhJVEB"
   },
   "source": [
    "Why this chart?\n",
    "Shows how loan counts differ by credit score category.\n",
    "\n",
    "Insights:\n",
    "\n",
    "Customers with Poor credit scores tend to have higher loan counts.\n",
    "\n",
    "Good credit customers usually manage fewer loans.\n",
    "\n",
    "Business Impact:\n",
    "Loan count is a red flag variable. Fewer loans → healthier financial profile."
   ]
  },
  {
   "cell_type": "code",
   "execution_count": null,
   "id": "Orx_8e6XMvSa",
   "metadata": {
    "colab": {
     "base_uri": "https://localhost:8080/",
     "height": 526
    },
    "id": "Orx_8e6XMvSa",
    "outputId": "bd82ed6b-b885-4cc4-aa5c-fc5b0880f324"
   },
   "outputs": [],
   "source": [
    "plt.figure(figsize=(6,4))\n",
    "sns.boxplot(x='Credit_Score', y='Outstanding_Debt', data=df, palette=\"Blues\")\n",
    "plt.title(\"Outstanding Debt vs Credit Score\")\n",
    "plt.show()"
   ]
  },
  {
   "cell_type": "markdown",
   "id": "49zI031AJVfK",
   "metadata": {
    "id": "49zI031AJVfK"
   },
   "source": [
    "Why this chart?\n",
    "Debt levels are key to assessing repayment capacity across categories.\n",
    "\n",
    "Insights:\n",
    "\n",
    "Poor credit scores are strongly associated with higher debt levels.\n",
    "\n",
    "Good credit scores align with lower outstanding debt.\n",
    "\n",
    "Business Impact:\n",
    "Outstanding debt is a critical predictor of credit risk. Helps in designing stricter loan approval policies."
   ]
  },
  {
   "cell_type": "markdown",
   "id": "f3fde6a5",
   "metadata": {
    "id": "f3fde6a5"
   },
   "source": [
    "## 11. Multivariate Analysis"
   ]
  },
  {
   "cell_type": "markdown",
   "id": "hRPRkJA7JWWu",
   "metadata": {
    "id": "hRPRkJA7JWWu"
   },
   "source": []
  },
  {
   "cell_type": "code",
   "execution_count": null,
   "id": "bhbrlnfrRVKz",
   "metadata": {
    "colab": {
     "base_uri": "https://localhost:8080/",
     "height": 738
    },
    "id": "bhbrlnfrRVKz",
    "outputId": "251f49bc-51f3-4a9a-ee14-5f54015b13fb"
   },
   "outputs": [],
   "source": [
    "# Select only numeric columns for correlation\n",
    "numeric_df = df.select_dtypes(include=[np.number])\n",
    "\n",
    "plt.figure(figsize=(10,6))\n",
    "sns.heatmap(numeric_df.corr(), annot=True, cmap='coolwarm', fmt=\".2f\")\n",
    "plt.title(\"Correlation Heatmap of Numerical Variables\")\n",
    "plt.show()"
   ]
  },
  {
   "cell_type": "markdown",
   "id": "W7groMnrSJ1S",
   "metadata": {
    "id": "W7groMnrSJ1S"
   },
   "source": [
    "Why this chart?\n",
    "Heatmaps summarize correlations between all numeric variables in one view.\n",
    "\n",
    "Insights:\n",
    "\n",
    "Annual Income and Monthly Salary are strongly correlated.\n",
    "\n",
    "Outstanding Debt and Number of Loans are moderately correlated.\n",
    "\n",
    "Business Impact:\n",
    "Prevents redundancy in models, helps pick the strongest predictors."
   ]
  },
  {
   "cell_type": "code",
   "execution_count": null,
   "id": "289b9e86",
   "metadata": {
    "colab": {
     "base_uri": "https://localhost:8080/",
     "height": 1000
    },
    "id": "289b9e86",
    "outputId": "2507c186-29a6-43c6-afde-29918003abb1"
   },
   "outputs": [],
   "source": [
    "sns.pairplot(df[['Age','Annual_Income','Outstanding_Debt','Num_of_Loan','Credit_Score']],\n",
    "             hue=\"Credit_Score\", diag_kind=\"kde\", palette=\"Set2\")\n",
    "plt.show()"
   ]
  },
  {
   "cell_type": "markdown",
   "id": "QNND8YagSavP",
   "metadata": {
    "id": "QNND8YagSavP"
   },
   "source": [
    "Why this chart?\n",
    "Pairplots reveal variable-to-variable scatterplots colored by target variable.\n",
    "\n",
    "Insights:\n",
    "\n",
    "Clear separation of Good vs Poor scores in Income vs Debt.\n",
    "\n",
    "Overlaps indicate areas where models may struggle.\n",
    "\n",
    "Business Impact:\n",
    "Helps visualize multidimensional patterns for credit risk."
   ]
  },
  {
   "cell_type": "code",
   "execution_count": null,
   "id": "k_xGhOzqShHx",
   "metadata": {
    "colab": {
     "base_uri": "https://localhost:8080/",
     "height": 768
    },
    "id": "k_xGhOzqShHx",
    "outputId": "3518e0d3-bd03-4e06-f45e-ea221210388e"
   },
   "outputs": [],
   "source": [
    "pd.crosstab(df['Payment_Behaviour'], df['Credit_Score']).plot(\n",
    "    kind=\"bar\", stacked=True, figsize=(8,5), colormap=\"Set2\")\n",
    "\n",
    "plt.title(\"Payment Behaviour vs Credit Score\")\n",
    "plt.ylabel(\"Count\")\n",
    "plt.show()"
   ]
  },
  {
   "cell_type": "markdown",
   "id": "2Ca3msN8Sqhp",
   "metadata": {
    "id": "2Ca3msN8Sqhp"
   },
   "source": [
    "Why this chart?\n",
    "Shows combined effect of Payment Behaviour with Credit Score.\n",
    "\n",
    "Insights:\n",
    "\n",
    "Poor repayment behaviour → more Poor credit scores.\n",
    "\n",
    "Responsible repayment → more Good scores.\n",
    "\n",
    "Business Impact:\n",
    "Confirms Payment Behaviour as one of the most powerful predictors of creditworthiness."
   ]
  },
  {
   "cell_type": "markdown",
   "id": "e4d7a3d0",
   "metadata": {
    "id": "e4d7a3d0"
   },
   "source": [
    "## 12. Conclusion & Business Insights"
   ]
  },
  {
   "cell_type": "markdown",
   "id": "642f3fe7",
   "metadata": {
    "id": "642f3fe7"
   },
   "source": [
    "### 🔹 Univariate Analysis\n",
    "- Majority of customers fall under **Standard** and **Good** credit scores; fewer in **Poor**.\n",
    "- Most customers are **25–40 years old** → young working professionals dominate the dataset.\n",
    "- Income distribution is **right-skewed** → large portion earns low/mid-range income, fewer very high earners.\n",
    "- Most customers have **1–3 loans**, very few exceed 6.\n",
    "- Outstanding debt is skewed → many moderate debts, few very high debts.\n",
    "\n",
    "### 🔹 Bivariate Analysis\n",
    "- **Age vs Credit Score**: Poor scores more common in younger customers; Good scores more common in slightly older customers.\n",
    "- **Income vs Credit Score**: Higher incomes strongly align with Good credit scores.\n",
    "- **Number of Loans vs Credit Score**: More loans usually → Poor scores. Fewer loans → healthier profiles.\n",
    "- **Outstanding Debt vs Credit Score**: High debt strongly associated with Poor scores.\n",
    "\n",
    "### 🔹 Multivariate Analysis\n",
    "- Strong correlation between **Annual Income and Monthly Salary**.\n",
    "- Number of Loans and Outstanding Debt moderately correlated.\n",
    "- **Pairplot** shows clear separation of Good vs Poor credit scores when considering Income and Debt together.\n",
    "- **Payment Behaviour** is a strong predictor → bad behaviour aligns heavily with Poor credit scores.\n",
    "\n",
    "---\n",
    "\n",
    "## 💡 Final Business Insights\n",
    "1. **Young, low-income customers with multiple loans and high debt are the riskiest group**.  \n",
    "   - Action: Apply stricter approval criteria or offer smaller loan amounts to manage risk.  \n",
    "\n",
    "2. **High-income, middle-aged customers with fewer loans and good payment behaviour are the safest group**.  \n",
    "   - Action: Prioritize these for premium credit offers and higher loan limits.  \n",
    "\n",
    "3. **Payment Behaviour is the single most powerful predictor of creditworthiness**.  \n",
    "   - Action: Focus on monitoring and rewarding good payment patterns to encourage responsible repayment.  "
   ]
  }
 ],
 "metadata": {
  "colab": {
   "provenance": []
  },
  "kernelspec": {
   "display_name": "Python 3",
   "name": "python3"
  },
  "language_info": {
   "name": "python"
  }
 },
 "nbformat": 4,
 "nbformat_minor": 5
}
